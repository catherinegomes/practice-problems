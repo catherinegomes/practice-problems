{
 "cells": [
  {
   "cell_type": "markdown",
   "metadata": {},
   "source": [
    "Given a string, return the count of the number of times that a substring length 2 appears in the string and also as the last 2 chars of the string, so \"hixxxhi\" yields 1 (we won't count the end substring). &emsp;&emsp;&emsp;&emsp;[Credit to CodingBat](https://codingbat.com/prob/p145834)\n",
    "\n",
    "last2('hixxhi') → 1     <br/>\n",
    "last2('xaxxaxaxx') → 1     <br/>\n",
    "last2('axxxaaxx') → 2      <br/>\n",
    "\n",
    "**Now what is this question asking?** Check the last 2 characters and this is the \"substring\" you are looking for. Count the string and return how many times this substring appears. For the third example, the substrings can overlap, hence [1,2] and [2,3]."
   ]
  },
  {
   "cell_type": "markdown",
   "metadata": {},
   "source": [
    "#### Enter a string of your choice"
   ]
  },
  {
   "cell_type": "code",
   "execution_count": 36,
   "metadata": {},
   "outputs": [],
   "source": [
    "string = 'axxxaaxx'"
   ]
  },
  {
   "cell_type": "markdown",
   "metadata": {},
   "source": [
    "#### Refresh on the following sections in Python for Everybody:\n",
    "* **8.3 Traversing a List**\n",
    "* **8.5 List Slices**"
   ]
  },
  {
   "cell_type": "code",
   "execution_count": 37,
   "metadata": {},
   "outputs": [],
   "source": [
    "def last2(string):\n",
    "  # Screen out too-short string case.\n",
    "    if len(string) < 2:\n",
    "        return 0\n",
    "    count = 0\n",
    "    for i in range(0, len(string)-2):\n",
    "        if string[i:i+2] == string[-2:]:\n",
    "            count += 1\n",
    "    return count"
   ]
  },
  {
   "cell_type": "code",
   "execution_count": null,
   "metadata": {},
   "outputs": [],
   "source": [
    "last2(string)"
   ]
  }
 ],
 "metadata": {
  "kernelspec": {
   "display_name": "training",
   "language": "python",
   "name": "training"
  },
  "language_info": {
   "codemirror_mode": {
    "name": "ipython",
    "version": 3
   },
   "file_extension": ".py",
   "mimetype": "text/x-python",
   "name": "python",
   "nbconvert_exporter": "python",
   "pygments_lexer": "ipython3",
   "version": "3.7.4"
  }
 },
 "nbformat": 4,
 "nbformat_minor": 4
}

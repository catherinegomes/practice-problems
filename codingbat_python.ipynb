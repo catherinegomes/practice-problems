{
 "cells": [
  {
   "cell_type": "markdown",
   "metadata": {},
   "source": [
    "# CodingBat Python Problems"
   ]
  },
  {
   "cell_type": "markdown",
   "metadata": {},
   "source": [
    "# last2\n",
    "\n",
    "#### Optional reading in Python for Everybody:\n",
    "* 8.3 Traversing a List\n",
    "* 8.5 List Slices\n",
    "\n",
    "\n",
    "Given a string, return the count of the number of times that a substring length 2 appears in the string and also as the last 2 chars of the string, so \"hixxxhi\" yields 1 (we won't count the end substring). &emsp;&emsp;&emsp;&emsp;[Credit to CodingBat](https://codingbat.com/prob/p145834)\n",
    "\n",
    "last2('hixxhi') → 1     <br/>\n",
    "last2('xaxxaxaxx') → 1     <br/>\n",
    "last2('axxxaaxx') → 2      <br/>\n",
    "\n",
    "**Now what is this question asking?** Check the last 2 characters and this is the \"substring\" you are looking for. Count the string and return how many times this substring appears. For the third example, the substrings can overlap, hence [1,2] and [2,3]."
   ]
  },
  {
   "cell_type": "markdown",
   "metadata": {},
   "source": [
    "#### Enter a string of your choice"
   ]
  },
  {
   "cell_type": "code",
   "execution_count": null,
   "metadata": {},
   "outputs": [],
   "source": [
    "string = 'axxxaaxx'"
   ]
  },
  {
   "cell_type": "code",
   "execution_count": null,
   "metadata": {},
   "outputs": [],
   "source": [
    "def last2(string):\n",
    "  # Screen out too-short string case.\n",
    "    if len(string) < 2:\n",
    "        return 0\n",
    "    count = 0\n",
    "    for i in range(0, len(string)-2):\n",
    "        if string[i:i+2] == string[-2:]:\n",
    "            count += 1\n",
    "    return count"
   ]
  },
  {
   "cell_type": "code",
   "execution_count": null,
   "metadata": {},
   "outputs": [],
   "source": [
    "last2(string)"
   ]
  },
  {
   "cell_type": "markdown",
   "metadata": {},
   "source": [
    "## array_count9"
   ]
  },
  {
   "cell_type": "markdown",
   "metadata": {},
   "source": [
    "Given an array of ints, return the number of 9's in the array. &emsp;[Credit to CodingBat](https://codingbat.com/prob/p166170) <br/>\n",
    "<br/>\n",
    "array_count9([1, 2, 9]) → 1 <br/>\n",
    "array_count9([1, 9, 9]) → 2 <br/>\n",
    "array_count9([1, 9, 9, 3, 9]) → 3"
   ]
  },
  {
   "cell_type": "markdown",
   "metadata": {},
   "source": [
    "#### Submit a list of numbers:"
   ]
  },
  {
   "cell_type": "code",
   "execution_count": null,
   "metadata": {},
   "outputs": [],
   "source": [
    "nums = [1,2,9]"
   ]
  },
  {
   "cell_type": "code",
   "execution_count": null,
   "metadata": {},
   "outputs": [],
   "source": [
    "def array_count9(nums):\n",
    "    count9 = 0\n",
    "    for num in nums:\n",
    "        if num == 9:\n",
    "            count9 += 1\n",
    "    return count9"
   ]
  },
  {
   "cell_type": "code",
   "execution_count": null,
   "metadata": {},
   "outputs": [],
   "source": [
    "array_count9(nums)"
   ]
  },
  {
   "cell_type": "markdown",
   "metadata": {},
   "source": [
    "# string_splosion\n",
    "\n",
    "#### Optional reading in Python for Everybody:\n",
    "* 8.3 Traversing a List\n",
    "* 8.5 List Slices\n",
    "<br/>\n",
    "<br/>\n",
    "\n",
    "\n",
    "Given a non-empty string like \"Code\" return a string like \"CCoCodCode\". &emsp;&emsp;&emsp;&emsp;[Credit to CodingBat](https://codingbat.com/prob/p118366)\n",
    "\n",
    "string_splosion('Code') → 'CCoCodCode' <br/>\n",
    "string_splosion('abc') → 'aababc' <br/>\n",
    "string_splosion('ab') → 'aab'\n",
    "\n",
    "#### Enter a string of your choice"
   ]
  },
  {
   "cell_type": "code",
   "execution_count": 1,
   "metadata": {},
   "outputs": [],
   "source": [
    "string = \"supercalifragilisticexpialidocious\""
   ]
  },
  {
   "cell_type": "code",
   "execution_count": null,
   "metadata": {},
   "outputs": [],
   "source": [
    "def string_splosion(string):\n",
    "    result = \"\"\n",
    "    for i in range(len(string)):\n",
    "        result = result + string[:i+1]\n",
    "        print(result)"
   ]
  },
  {
   "cell_type": "code",
   "execution_count": null,
   "metadata": {},
   "outputs": [],
   "source": [
    "string_splosion(string)"
   ]
  }
 ],
 "metadata": {
  "kernelspec": {
   "display_name": "training",
   "language": "python",
   "name": "training"
  },
  "language_info": {
   "codemirror_mode": {
    "name": "ipython",
    "version": 3
   },
   "file_extension": ".py",
   "mimetype": "text/x-python",
   "name": "python",
   "nbconvert_exporter": "python",
   "pygments_lexer": "ipython3",
   "version": "3.7.4"
  }
 },
 "nbformat": 4,
 "nbformat_minor": 4
}
